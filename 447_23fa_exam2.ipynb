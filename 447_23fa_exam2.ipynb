{
 "cells": [
  {
   "cell_type": "markdown",
   "metadata": {
    "id": "gqyprtgkiL91"
   },
   "source": [
    "# 447 23fa exam 2 due 11:59p Fri Dec 8\n",
    "\n",
    "***You are welcome (and encouraged) to:***\n",
    "- use analytical and numerical computational tools -- specify the tool(s) in sourcecode and/or text;\n",
    "- reuse example sourcecode and other materials provided in this course;\n",
    "- consult textbooks, websites, and other publicly-available materials -- include full citation(s) with the URL and/or [DOI](https://en.wikipedia.org/wiki/Digital_object_identifier).\n",
    "\n",
    "***You are not permitted to discuss the exam problems or share any part of your solutions with anyone other than the Professor or TA for this course.***\n",
    "- By submitting your exam solution on Canvas, you are affirming your understanding of and adherence to these restrictions.\n",
    "- We will answer questions during the class meetings Tuesday and Thursday.\n",
    "- We will also answer questions posted to the Canvas Discussion board until 5p Friday.\n",
    "\n",
    "***The exam deadline is 11:59p Friday on Canvas.***\n",
    "- Final submissions received before this deadline will receive +1 bonus points.\n",
    "- Everyone automatically receives a deadline extension to 11:59p Sunday. ***Further deadline extensions require prior approval.***"
   ]
  },
  {
   "cell_type": "markdown",
   "metadata": {
    "tags": []
   },
   "source": [
    "# standard negative feedback interconnection\n",
    "\n",
    "This diagram, which we have studied extensively in class, is referred to by multiple problems below.\n",
    "\n",
    "![negative feedback loop](http://faculty.washington.edu/sburden/447/447-hw1-feedback.png)"
   ]
  },
  {
   "cell_type": "markdown",
   "metadata": {},
   "source": [
    "# set up environment\n",
    "\n",
    "I suggest evaluating these cells each time you open the notebook."
   ]
  },
  {
   "cell_type": "code",
   "execution_count": 2,
   "metadata": {
    "tags": []
   },
   "outputs": [],
   "source": [
    "from _447 import *"
   ]
  },
  {
   "cell_type": "code",
   "execution_count": 13,
   "metadata": {
    "tags": []
   },
   "outputs": [
    {
     "name": "stdout",
     "output_type": "stream",
     "text": [
      "Requirement already satisfied: control in /opt/conda/lib/python3.10/site-packages (0.9.4)\n",
      "Requirement already satisfied: numpy in /opt/conda/lib/python3.10/site-packages (from control) (1.24.3)\n",
      "Requirement already satisfied: scipy>=1.3 in /opt/conda/lib/python3.10/site-packages (from control) (1.10.1)\n",
      "Requirement already satisfied: matplotlib in /opt/conda/lib/python3.10/site-packages (from control) (3.7.1)\n",
      "Requirement already satisfied: contourpy>=1.0.1 in /opt/conda/lib/python3.10/site-packages (from matplotlib->control) (1.0.7)\n",
      "Requirement already satisfied: cycler>=0.10 in /opt/conda/lib/python3.10/site-packages (from matplotlib->control) (0.11.0)\n",
      "Requirement already satisfied: fonttools>=4.22.0 in /opt/conda/lib/python3.10/site-packages (from matplotlib->control) (4.39.3)\n",
      "Requirement already satisfied: kiwisolver>=1.0.1 in /opt/conda/lib/python3.10/site-packages (from matplotlib->control) (1.4.4)\n",
      "Requirement already satisfied: packaging>=20.0 in /opt/conda/lib/python3.10/site-packages (from matplotlib->control) (23.1)\n",
      "Requirement already satisfied: pillow>=6.2.0 in /opt/conda/lib/python3.10/site-packages (from matplotlib->control) (9.5.0)\n",
      "Requirement already satisfied: pyparsing>=2.3.1 in /opt/conda/lib/python3.10/site-packages (from matplotlib->control) (3.0.9)\n",
      "Requirement already satisfied: python-dateutil>=2.7 in /opt/conda/lib/python3.10/site-packages (from matplotlib->control) (2.8.2)\n",
      "Requirement already satisfied: six>=1.5 in /opt/conda/lib/python3.10/site-packages (from python-dateutil>=2.7->matplotlib->control) (1.16.0)\n"
     ]
    }
   ],
   "source": [
    "!pip install control\n",
    "import control as ctrl"
   ]
  },
  {
   "cell_type": "markdown",
   "metadata": {},
   "source": [
    "# problem 1\n",
    "\n",
    "Design a stabilizing estimator-based controller for the following system:\n",
    "$$ \\dot{x} = \\left(\\begin{matrix} -1 & 0 \\\\ 1 & 0 \\end{matrix}\\right) x + \\left(\\begin{matrix} 2 \\\\ 1 \\end{matrix}\\right) u,\\ y = \\left(\\begin{matrix} 0 & 1 \\end{matrix}\\right) x. $$\n",
    "Specify the $K$ and $L$ matrices and implement a simulation of the closed-loop system to confirm the trajectories behave as you expect."
   ]
  },
  {
   "cell_type": "markdown",
   "metadata": {},
   "source": [
    "# problem 2\n",
    "\n",
    "Consider a second-order process model\n",
    "$$ P(s) = \\frac{b}{\\left(s + a_{1}\\right) \\left(s + a_{2}\\right)}. $$\n",
    "\n",
    "In the following subproblems, you are asked to consider the effect of different classes of controllers interconnected with $P$ in the standard negative feedback loop illustrated at the top of this exam."
   ]
  },
  {
   "cell_type": "markdown",
   "metadata": {},
   "source": [
    "## subproblem a\n",
    "\n",
    "Show that you can't stabilize $P$ using proportional, integral, or derivative feedback alone by finding values for $a_1$, $a_2$ that render the closed-loop system unstable in each case."
   ]
  },
  {
   "cell_type": "markdown",
   "metadata": {},
   "source": [
    "## subproblem b\n",
    "\n",
    "Show that you can stabilize $P$ using proportional-derivative control regardless of the values of $a_1$ and $a_2$ by finding expressions for $k_P$, $k_D$ in terms of $a_1$ and $a_2$ that make the closed-loop system stable."
   ]
  },
  {
   "cell_type": "markdown",
   "metadata": {},
   "source": [
    "# problem 3\n",
    "\n",
    "Consider the simplified model for an inverted pendulum from lecture, \n",
    "$$\n",
    "m \\ell^2 \\ddot{q} = m g \\ell \\sin q - \\alpha\\dot{q} + \\ell u \\cos q\n",
    "$$\n",
    "where\n",
    "$q$ is the pendulum angle,\n",
    "$\\alpha > 0$ is a coefficient of rotational friction,\n",
    "$\\ell > 0$ is the length of the pendulum rod,\n",
    "$g > 0$ is the acceleration due to gravity,\n",
    "and $u$ is the horizontal acceleration of the pivot point.\n",
    "\n",
    "<span style=\"color:blue\">\n",
    "Use parameter values \n",
    "$m = 1$ kg, \n",
    "$\\ell = 0.5$ m,\n",
    "$g = 9.81$ m / sec$^2$,\n",
    "$a = .5$.\n",
    "</span>"
   ]
  },
  {
   "cell_type": "markdown",
   "metadata": {},
   "source": [
    "## subproblem a\n",
    "\n",
    "Choose an unstable equilibrium for the pendulum and design a full-state feedback controller to stabilize it; specify the equilibrium and the result of your stability test before and after applying your controller. Create phase portraits of the **nonlinear** system with and without your controller to show that it turned the unstable equilibrium into a stable equilibrium. \n",
    "\n",
    "*Hint:* I added a `phase_portrait` function to the `_447` module you may find helpful; if you elect to use it, I recommend calling it via `phase_portrait(f,xlim=(-2*pi,+2*pi),ylim=(-20,+20),fs=(6,3))` where `f(t,x)` is your vector field function signature."
   ]
  },
  {
   "cell_type": "markdown",
   "metadata": {},
   "source": [
    "## subproblem b\n",
    "\n",
    "Your controller in (a) stabilizes the nonlinear system *locally* in the sense that all trajectories inialized sufficiently close to your chosen equilibrium $x_e$ will converge to $x_e$. But your controller may not stabilize your equilibrium *globally* because trajectories initialized far enough away may never converge to $x_e$. In particular, if there is another equilibrium point $\\tilde{x}_e$, then (by definition) the trajectory initialized at $\\tilde{x}_e$ does not converge to $x_e$. \n",
    "\n",
    "Determine whether there are any equilibria in the closed-loop nonlinear system other than $x_e$: if there are, specify one; if not, explain your reasoning."
   ]
  },
  {
   "cell_type": "markdown",
   "metadata": {
    "tags": []
   },
   "source": [
    "# problem 4\n",
    "\n",
    "Consider the following two state-space systems.\n",
    "\n",
    "$$ \n",
    "\\dot{x}_1 = A_1 x_1 + B_1 u_1 = \\left[\\begin{matrix}0 & 0 & - a_{0}\\\\1 & 0 & - a_{1}\\\\0 & 1 & - a_{2}\\end{matrix}\\right] x_1 \n",
    "+\n",
    "\\left[\\begin{matrix}b_{0}\\\\b_{1}\\\\b_{2}\\end{matrix}\\right] u_1,\n",
    "\\\n",
    "y_1 = C_1 x_1 = \\left[\\begin{matrix}0 & 0 & 1\\end{matrix}\\right] x_1\n",
    "$$\n",
    "$$ \n",
    "\\dot{x}_2 = A_2 x_2 + B_2 u_2 = \\left[\\begin{matrix}0 & 1 & 0\\\\0 & 0 & 1\\\\- a_{0} & - a_{1} & - a_{2}\\end{matrix}\\right] x_2 \n",
    "+\n",
    "\\left[\\begin{matrix}0\\\\0\\\\1\\end{matrix}\\right] u_2,\n",
    "\\\n",
    "y_2 = C_2 x_2 = \\left[\\begin{matrix}b_{0} & b_{1} & b_{2}\\end{matrix}\\right] x_2\n",
    "$$"
   ]
  },
  {
   "cell_type": "markdown",
   "metadata": {
    "tags": []
   },
   "source": [
    "## subproblem a\n",
    "\n",
    "Show analytically that these state-space systems represent the same LTI transformation, <span style=\"color:blue\">i.e. have the same transfer function.</span>\n",
    "\n",
    "*Hint:* you may find SymPy helpful."
   ]
  },
  {
   "cell_type": "markdown",
   "metadata": {
    "tags": []
   },
   "source": [
    "## subproblem b\n",
    "\n",
    "Show that these state-space systems have the same step response using simulations with parameter values $b_0 = b_1 = b_2 = 1$ and $a_0 = 1$, $a_2 = 2$, $a_3 = 1$."
   ]
  },
  {
   "cell_type": "markdown",
   "metadata": {},
   "source": [
    "# problem 5\n",
    "\n",
    "This is a \"story problem\" that will test your ability to apply the techniques learned in this class in novel ways.\n",
    "\n",
    "> In your first week at your new job, you are tasked with designing a proportional-derivative controller $C(s) = k_P + k_D s$ to stabilize a second-order process $P(s) = \\frac{b}{(s + a_1)(s + a_2)}$ in the standard feedback interconnection illustrated in the diagram at the top of this exam.\n",
    "\n",
    "> You are given nominal values for the parameters of $b = 1$, $a_1 = -1+j$, $a_2 = -1-j$, so you know the process is unstable. Thinking back on your first week in 447, you recall that the characteristic polynomial for the closed-loop transfer function is $s^2 + (a_1+a_2+b k_D) s + a_1 a_2 + b k_P$.\n",
    "Inspiration strikes as you remember learning the Routh-Hurwitz stability criteria in week 3 so that (after substituting in the given numerical values for $a$ and $b$) the closed-loop system is stable if and only if $k_P > 0$ and $k_D > 2$, so you choose $k_P = 1$ and $k_D = 2.5$."
   ]
  },
  {
   "cell_type": "markdown",
   "metadata": {},
   "source": [
    "## subproblem a\n",
    "\n",
    "> Your boss complains that the performance is unacceptable. You know from week 4 of 447 that there are a lot of possible performance criteria, so you ask your boss for clarification. They explain that the *overshoot* and *steady-state value* of the closed-loop system's step response to disturbance $v$ are very costly: every percentage point of overshoot costs \\\\$1M, and every unit of steady-state value costs \\\\$100M.\n",
    "\n",
    "> One of your colleagues provides helpful guidance that $k_D$ can't be increased as it would start to amplify noise and degrade performance, but says that $k_P$ could be as large as 100.\n",
    "\n",
    "Implement a function `cost(k_P)` in Python that takes the proportional gain $k_P$ as an argument and returns the cost of that choice of gain in dollars. Plot `cost(k_P)` versus `k_P` with axis labels. Use this plot to find a value of $k_P$ that approximately minimizes the cost, and specify the cost savings relative to your initial choice for $k_P$.\n",
    "\n",
    "*Hint:* the `step_info` in the control systems library computes overshoot, steady-state value, and several other performance statistics for a given LTI system."
   ]
  },
  {
   "cell_type": "markdown",
   "metadata": {
    "tags": []
   },
   "source": [
    "## subproblem b\n",
    "\n",
    "> One of your colleagues sends you a message explaining that the process model your boss gave you was overly simplistic. In particular, it fails to account for significant *delay* between the sensor measurements and controller computations. (Delay arises naturally, for instance, when systems are controlled in space, under water, or over poor communication networks.)\n",
    "\n",
    "> Panic sets in momentarily as you begrudge your ivory-tower professor who failed to teach you how to design control systems in the presence of this very common real-world phenomenon. But then you take a deep breath and think creatively about how to apply what you've learned.\n",
    "\n",
    "> <span style=\"color:blue\">You remember that delay by time $T$ is an LTI transformation with transfer function $D(s) = e^{-sT}$, so you can add delay to the standard feedback diagram at the top of this exam by replacing the $\\fbox{$-1$}$ block with $\\fbox{$-D(s)$}$. Then you think it seems sensible to define *delay margin* -- analogous to gain and phase margins -- as the smallest value of $T > 0$ that makes the Nyquist plot intersect the \"bad point\" $-1\\in\\mathbb{C}$.</span>\n",
    "\n",
    "Determine the *delay margin* for the closed-loop system. Use the original values for $k_P$ and $k_D$ and restrict to the range $0 < T < 1$.\n",
    "\n",
    "*Hint:* I added a `nyquist_plot` function to the `_447` module you may find helpful."
   ]
  },
  {
   "cell_type": "markdown",
   "metadata": {},
   "source": [
    "## subproblem c\n",
    "\n",
    "> Your colleague says that the delay margin you found sounds too good to be true. They'll be convinced if you show trajectories from the system when the delay is smaller and larger than your delay margin.\n",
    "\n",
    "Implement a time-domain simulation of the closed-loop system with delay, and plot simulation trajectories for two values of delay: one smaller than the margin you found in (a), and one larger.\n",
    "\n",
    "<span style=\"color:blue\">*Hint*: you may find the following code useful -- it generates the step response for the closed-loop system in this problem using two methods.</span>"
   ]
  },
  {
   "cell_type": "code",
   "execution_count": 20,
   "metadata": {
    "tags": []
   },
   "outputs": [
    {
     "data": {
      "image/png": "[encoded data removed]",
      "text/plain": [
       "<Figure size 400x200 with 1 Axes>"
      ]
     },
     "metadata": {},
     "output_type": "display_data"
    }
   ],
   "source": [
    "# parameter values\n",
    "b = 1; a1 = -1-1j; a2 = -1+1j; kP = 1; kD = 2.5\n",
    "\n",
    "# initial value, final time, timestep\n",
    "y0,dy0 = 0.,0.\n",
    "tf = 20\n",
    "dt = 1e-3\n",
    "\n",
    "# time samples\n",
    "t_ = np.arange(0,tf,dt)\n",
    "\n",
    "# simulate using control library\n",
    "P = ctrl.TransferFunction([b],[1,a1+a2,a1*a2])\n",
    "C = ctrl.TransferFunction([-kD,-kP],[1])\n",
    "S = ctrl.feedback(P,C,sign=+1)\n",
    "_t,_y = ctrl.step_response(S,T=tf)\n",
    "\n",
    "# simulate \"by hand\"\n",
    "y_ = [y0]\n",
    "dy_ = [dy0]\n",
    "for _ in range(t_.size): \n",
    "    y = y_[-1]\n",
    "    dy = dy_[-1]\n",
    "    u = - kP*y - kD*dy\n",
    "    u += 1 # add \"step\" to control input\n",
    "    ddy = b*u - (a1 + a2)*dy - a1*a2*y\n",
    "    y_.append(y + dt * dy)\n",
    "    dy_.append(dy + dt * ddy)\n",
    "y_ = np.array(y_[:-1])\n",
    "dy_ = np.array(dy_[:-1])\n",
    "\n",
    "# plot step response\n",
    "plt.figure(figsize=(4,2))\n",
    "plt.plot(t_,y_,label='\"by hand\"');\n",
    "plt.plot(_t,_y,'--',lw=3,label='control library');\n",
    "plt.legend()\n",
    "plt.xlabel(r'time $t$')\n",
    "plt.ylabel(r'output $y(t)$');"
   ]
  }
 ],
 "metadata": {
  "colab": {
   "collapsed_sections": [],
   "name": "447_21fa_exam1.ipynb",
   "provenance": []
  },
  "kernelspec": {
   "display_name": "Python 3 (ipykernel)",
   "language": "python",
   "name": "python3"
  },
  "language_info": {
   "codemirror_mode": {
    "name": "ipython",
    "version": 3
   },
   "file_extension": ".py",
   "mimetype": "text/x-python",
   "name": "python",
   "nbconvert_exporter": "python",
   "pygments_lexer": "ipython3",
   "version": "3.10.10"
  }
 },
 "nbformat": 4,
 "nbformat_minor": 4
}
